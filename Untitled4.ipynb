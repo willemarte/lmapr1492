{
 "cells": [
  {
   "cell_type": "code",
   "execution_count": 94,
   "metadata": {},
   "outputs": [
    {
     "name": "stdout",
     "output_type": "stream",
     "text": [
      "Rotation d'ordre 3\n",
      "__________________________\n",
      "\n",
      "L'élément de symétrie numéro 3 sur jmol correspond à un axe de rotation d'ordre 3.Comme on le voit sur la figure ci-dessous,tout élément initialment situé en (x, y, z) aura après transformation les coordonnnées (-y, x-y, z).\n",
      "Dans notre cas nous avons l'atome de Rb qui passe des coordonnées (0.67,0.33,0.33) aux coordonnées\n",
      "[-0.33  0.34  0.33]\n",
      "\n",
      "On peut associer à cette transformation une matrice de rotation et un vecteur de translation \n",
      "Matrice de rotation :\n",
      "[[ 0. -1.  0.]\n",
      " [ 1. -1.  0.]\n",
      " [ 0.  0.  1.]]\n",
      "Vecteur de translation :\n",
      "[0. 0. 0.]\n",
      "\n",
      "Pour trouver les nouvelles coordonnées après transformation, on multiplie les coordonnées de l'atome par la matrice de rotation et on ajoute le vecteur de translation.\n"
     ]
    },
    {
     "ename": "FileNotFoundError",
     "evalue": "[Errno 2] No such file or directory: 'rot3.png'",
     "output_type": "error",
     "traceback": [
      "\u001b[0;31m---------------------------------------------------------------------------\u001b[0m",
      "\u001b[0;31mFileNotFoundError\u001b[0m                         Traceback (most recent call last)",
      "\u001b[0;32m<ipython-input-94-a6e8aec5ab2c>\u001b[0m in \u001b[0;36m<module>\u001b[0;34m\u001b[0m\n\u001b[1;32m     49\u001b[0m \u001b[0mprint\u001b[0m\u001b[0;34m(\u001b[0m\u001b[0;34m\"Pour trouver les nouvelles coordonnées après transformation, on multiplie les coordonnées de l'atome par la matrice de rotation et on ajoute le vecteur de translation.\"\u001b[0m\u001b[0;34m)\u001b[0m\u001b[0;34m\u001b[0m\u001b[0;34m\u001b[0m\u001b[0m\n\u001b[1;32m     50\u001b[0m \u001b[0;34m\u001b[0m\u001b[0m\n\u001b[0;32m---> 51\u001b[0;31m \u001b[0mrot3\u001b[0m \u001b[0;34m=\u001b[0m \u001b[0mmpimg\u001b[0m\u001b[0;34m.\u001b[0m\u001b[0mimread\u001b[0m\u001b[0;34m(\u001b[0m\u001b[0;34m\"rot3.png\"\u001b[0m\u001b[0;34m)\u001b[0m\u001b[0;34m\u001b[0m\u001b[0;34m\u001b[0m\u001b[0m\n\u001b[0m\u001b[1;32m     52\u001b[0m \u001b[0mplt\u001b[0m\u001b[0;34m.\u001b[0m\u001b[0mimshow\u001b[0m\u001b[0;34m(\u001b[0m\u001b[0mrot3\u001b[0m\u001b[0;34m)\u001b[0m\u001b[0;34m\u001b[0m\u001b[0;34m\u001b[0m\u001b[0m\n\u001b[1;32m     53\u001b[0m \u001b[0mplt\u001b[0m\u001b[0;34m.\u001b[0m\u001b[0mshow\u001b[0m\u001b[0;34m(\u001b[0m\u001b[0;34m)\u001b[0m\u001b[0;34m\u001b[0m\u001b[0;34m\u001b[0m\u001b[0m\n",
      "\u001b[0;32m/usr/local/lib64/python3.6/site-packages/matplotlib/image.py\u001b[0m in \u001b[0;36mimread\u001b[0;34m(fname, format)\u001b[0m\n\u001b[1;32m   1431\u001b[0m             \u001b[0;32mreturn\u001b[0m \u001b[0mhandler\u001b[0m\u001b[0;34m(\u001b[0m\u001b[0mfd\u001b[0m\u001b[0;34m)\u001b[0m\u001b[0;34m\u001b[0m\u001b[0;34m\u001b[0m\u001b[0m\n\u001b[1;32m   1432\u001b[0m         \u001b[0;32melse\u001b[0m\u001b[0;34m:\u001b[0m\u001b[0;34m\u001b[0m\u001b[0;34m\u001b[0m\u001b[0m\n\u001b[0;32m-> 1433\u001b[0;31m             \u001b[0;32mwith\u001b[0m \u001b[0mopen\u001b[0m\u001b[0;34m(\u001b[0m\u001b[0mfname\u001b[0m\u001b[0;34m,\u001b[0m \u001b[0;34m'rb'\u001b[0m\u001b[0;34m)\u001b[0m \u001b[0;32mas\u001b[0m \u001b[0mfd\u001b[0m\u001b[0;34m:\u001b[0m\u001b[0;34m\u001b[0m\u001b[0;34m\u001b[0m\u001b[0m\n\u001b[0m\u001b[1;32m   1434\u001b[0m                 \u001b[0;32mreturn\u001b[0m \u001b[0mhandler\u001b[0m\u001b[0;34m(\u001b[0m\u001b[0mfd\u001b[0m\u001b[0;34m)\u001b[0m\u001b[0;34m\u001b[0m\u001b[0;34m\u001b[0m\u001b[0m\n\u001b[1;32m   1435\u001b[0m     \u001b[0;32melse\u001b[0m\u001b[0;34m:\u001b[0m\u001b[0;34m\u001b[0m\u001b[0;34m\u001b[0m\u001b[0m\n",
      "\u001b[0;31mFileNotFoundError\u001b[0m: [Errno 2] No such file or directory: 'rot3.png'"
     ]
    }
   ],
   "source": [
    "from pymatgen.ext.matproj import MPRester\n",
    "from pymatgen.io.cif import CifWriter\n",
    "from pymatgen import Lattice \n",
    "from pymatgen.symmetry.analyzer import SpacegroupAnalyzer\n",
    "from pymatgen.core.structure import Structure, Molecule\n",
    "from pymatgen.symmetry.structure import SymmetrizedStructure\n",
    "from pymatgen.core.structure import PeriodicSite\n",
    "from pymatgen.core.operations import SymmOp\n",
    "from pymatgen.util.coord import find_in_coord_list, pbc_diff\n",
    "from pprint import pprint\n",
    "from pymatgen.symmetry.analyzer import SpacegroupAnalyzer\n",
    "import matplotlib.image as mpimg\n",
    "import numpy as np\n",
    "import matplotlib.pyplot as plt\n",
    "\n",
    "with MPRester(\"QpfJCrDNtAVubMxG\") as m:\n",
    "    # Structure for material id\n",
    "    structure = m.get_structure_by_material_id(\"mp-7478\")\n",
    "    \n",
    "    # Creation of the CIF file\n",
    "    w = CifWriter(structure)\n",
    "    CIF=w.write_file('RbTmO2_mp-7478.cif')\n",
    "    \n",
    "\n",
    "SgA=SpacegroupAnalyzer(structure)\n",
    "\n",
    "# The structure in a conventional standardized cell \n",
    "ConvStand=SpacegroupAnalyzer(SgA.get_conventional_standard_structure())\n",
    "ConvStandSite=ConvStand.get_conventional_standard_structure().sites\n",
    "\n",
    "Symop=ConvStand.get_symmetry_operations()\n",
    "Sym1=Symop[2]\n",
    "Sym2=Symop[7]\n",
    "Sym3=Symop[12]\n",
    "print(\"Rotation d'ordre 3\")\n",
    "print(\"__________________________\")\n",
    "print(\"\")\n",
    "print(\"L'élément de symétrie numéro 3 sur jmol correspond à un axe de rotation d'ordre 3.Comme on le voit sur la figure ci-dessous,\"\n",
    "      \"tout élément initialment situé en (x, y, z) aura après transformation les coordonnnées (\"+Sym1.as_xyz_string()+\").\")\n",
    "print(\"Dans notre cas nous avons l'atome de Rb qui passe des coordonnées (0.67,0.33,0.33) aux coordonnées\")\n",
    "print(Sym1.operate((0.67,0.33,0.33)))\n",
    "print(\"\")\n",
    "print(\"On peut associer à cette transformation une matrice de rotation et un vecteur de translation \")\n",
    "print(\"Matrice de rotation :\")\n",
    "print(Sym1.rotation_matrix)\n",
    "print(\"Vecteur de translation :\")\n",
    "print(Sym1.translation_vector)\n",
    "print(\"\")\n",
    "print(\"Pour trouver les nouvelles coordonnées après transformation, on multiplie les coordonnées de l'atome par la matrice de rotation et on ajoute le vecteur de translation.\")\n",
    "\n",
    "rot3 = mpimg.imread(\"rot3.png\")\n",
    "plt.imshow(rot3)\n",
    "plt.show()\n",
    "print(\"\")\n",
    "print(\"\")\n",
    "print(\"Plan miroir\")\n",
    "print(\"__________________________\")\n",
    "print(\"\")\n",
    "print(\"L'élément de symétrie numéro 8 sur jmol correspond à un plan miroir.Comme on le voit sur la figure ci-dessous,\"\n",
    "      \"tout élément initialment situé en (x, y, z) aura après transformation les coordonnnées (\"+Sym2.as_xyz_string()+\").\")\n",
    "print(\"Dans notre cas nous avons l'atome de Tm qui passe des coordonnées (0.67,0.33,0.83) aux coordonnées\")\n",
    "print(Sym2.operate((0.67,0.33,0.83)))\n",
    "print(\"\")\n",
    "print(\"On peut associer à cette transformation une matrice de rotation et un vecteur de translation \")\n",
    "print(\"Matrice de rotation :\")\n",
    "print(Sym2.rotation_matrix)\n",
    "print(\"Vecteur de translation :\")\n",
    "print(Sym2.translation_vector)\n",
    "print(\"\")\n",
    "print(\"Pour trouver les nouvelles coordonnées après transformation, on multiplie les coordonnées de l'atome par la matrice de rotation et on ajoute le vecteur de translation.\")\n",
    "print(\"\")\n",
    "print(\"\")\n",
    "print(\"Translation\")\n",
    "print(\"__________________________\")\n",
    "print(\"\")\n",
    "print(\"L'élément de symétrie numéro 13 sur jmol correspond à une translation.Comme on le voit sur la figure ci-dessous,\"\n",
    "      \"tout élément initialment situé en (x, y, z) aura après transformation les coordonnnées (\"+Sym3.as_xyz_string()+\").\")\n",
    "print(\"Dans notre cas nous avons l'atome de O qui passe des coordonnées (0.67,0.33,0.56) aux coordonnées\")\n",
    "print(Sym3.operate((0.67,0.33,0.56)))\n",
    "print(\"\")\n",
    "print(\"On peut associer à cette transformation une matrice de rotation et un vecteur de translation \")\n",
    "print(\"Matrice de rotation :\")\n",
    "print(Sym3.rotation_matrix)\n",
    "print(\"Vecteur de translation :\")\n",
    "print(Sym3.translation_vector)\n",
    "print(\"\")\n",
    "print(\"Pour trouver les nouvelles coordonnées après transformation, on multiplie les coordonnées de l'atome par la matrice de rotation et on ajoute le vecteur de translation.\")"
   ]
  },
  {
   "cell_type": "code",
   "execution_count": null,
   "metadata": {},
   "outputs": [],
   "source": []
  },
  {
   "cell_type": "code",
   "execution_count": 89,
   "metadata": {},
   "outputs": [
    {
     "name": "stdout",
     "output_type": "stream",
     "text": [
      "C'est l'atome numéro 5 dans jmol\n"
     ]
    }
   ],
   "source": [
    "\n"
   ]
  },
  {
   "cell_type": "code",
   "execution_count": 22,
   "metadata": {},
   "outputs": [
    {
     "name": "stdout",
     "output_type": "stream",
     "text": [
      "Rot:\n",
      "[[ 0.  0. -1.]\n",
      " [-1.  0.  0.]\n",
      " [ 0. -1.  0.]]\n",
      "tau\n",
      "[0. 0. 0.]\n"
     ]
    },
    {
     "ename": "TypeError",
     "evalue": "Invalid key 0, <class 'int'> for Composition\nValueError exception:\nNo element with this atomic number 0",
     "output_type": "error",
     "traceback": [
      "\u001b[0;31m---------------------------------------------------------------------------\u001b[0m",
      "\u001b[0;31mValueError\u001b[0m                                Traceback (most recent call last)",
      "\u001b[0;32m/usr/local/lib64/python3.6/site-packages/pymatgen/core/composition.py\u001b[0m in \u001b[0;36m__getitem__\u001b[0;34m(self, item)\u001b[0m\n\u001b[1;32m    140\u001b[0m         \u001b[0;32mtry\u001b[0m\u001b[0;34m:\u001b[0m\u001b[0;34m\u001b[0m\u001b[0;34m\u001b[0m\u001b[0m\n\u001b[0;32m--> 141\u001b[0;31m             \u001b[0msp\u001b[0m \u001b[0;34m=\u001b[0m \u001b[0mget_el_sp\u001b[0m\u001b[0;34m(\u001b[0m\u001b[0mitem\u001b[0m\u001b[0;34m)\u001b[0m\u001b[0;34m\u001b[0m\u001b[0;34m\u001b[0m\u001b[0m\n\u001b[0m\u001b[1;32m    142\u001b[0m             \u001b[0;32mreturn\u001b[0m \u001b[0mself\u001b[0m\u001b[0;34m.\u001b[0m\u001b[0m_data\u001b[0m\u001b[0;34m.\u001b[0m\u001b[0mget\u001b[0m\u001b[0;34m(\u001b[0m\u001b[0msp\u001b[0m\u001b[0;34m,\u001b[0m \u001b[0;36m0\u001b[0m\u001b[0;34m)\u001b[0m\u001b[0;34m\u001b[0m\u001b[0;34m\u001b[0m\u001b[0m\n",
      "\u001b[0;32m/usr/local/lib64/python3.6/site-packages/pymatgen/core/periodic_table.py\u001b[0m in \u001b[0;36mget_el_sp\u001b[0;34m(obj)\u001b[0m\n\u001b[1;32m   1562\u001b[0m     \u001b[0;32mif\u001b[0m \u001b[0mi\u001b[0m \u001b[0;32mis\u001b[0m \u001b[0;32mnot\u001b[0m \u001b[0;32mNone\u001b[0m\u001b[0;34m:\u001b[0m\u001b[0;34m\u001b[0m\u001b[0;34m\u001b[0m\u001b[0m\n\u001b[0;32m-> 1563\u001b[0;31m         \u001b[0;32mreturn\u001b[0m \u001b[0mElement\u001b[0m\u001b[0;34m.\u001b[0m\u001b[0mfrom_Z\u001b[0m\u001b[0;34m(\u001b[0m\u001b[0mi\u001b[0m\u001b[0;34m)\u001b[0m\u001b[0;34m\u001b[0m\u001b[0;34m\u001b[0m\u001b[0m\n\u001b[0m\u001b[1;32m   1564\u001b[0m \u001b[0;34m\u001b[0m\u001b[0m\n",
      "\u001b[0;32m/usr/local/lib64/python3.6/site-packages/pymatgen/core/periodic_table.py\u001b[0m in \u001b[0;36mfrom_Z\u001b[0;34m(z)\u001b[0m\n\u001b[1;32m    771\u001b[0m                 \u001b[0;32mreturn\u001b[0m \u001b[0mElement\u001b[0m\u001b[0;34m(\u001b[0m\u001b[0msym\u001b[0m\u001b[0;34m)\u001b[0m\u001b[0;34m\u001b[0m\u001b[0;34m\u001b[0m\u001b[0m\n\u001b[0;32m--> 772\u001b[0;31m         \u001b[0;32mraise\u001b[0m \u001b[0mValueError\u001b[0m\u001b[0;34m(\u001b[0m\u001b[0;34m\"No element with this atomic number %s\"\u001b[0m \u001b[0;34m%\u001b[0m \u001b[0mz\u001b[0m\u001b[0;34m)\u001b[0m\u001b[0;34m\u001b[0m\u001b[0;34m\u001b[0m\u001b[0m\n\u001b[0m\u001b[1;32m    773\u001b[0m \u001b[0;34m\u001b[0m\u001b[0m\n",
      "\u001b[0;31mValueError\u001b[0m: No element with this atomic number 0",
      "\nDuring handling of the above exception, another exception occurred:\n",
      "\u001b[0;31mTypeError\u001b[0m                                 Traceback (most recent call last)",
      "\u001b[0;32m<ipython-input-22-425307bee2a0>\u001b[0m in \u001b[0;36m<module>\u001b[0;34m\u001b[0m\n\u001b[1;32m      1\u001b[0m \u001b[0mSym1\u001b[0m\u001b[0;34m=\u001b[0m\u001b[0mSymop\u001b[0m\u001b[0;34m[\u001b[0m\u001b[0;36m3\u001b[0m\u001b[0;34m]\u001b[0m\u001b[0;34m\u001b[0m\u001b[0;34m\u001b[0m\u001b[0m\n\u001b[1;32m      2\u001b[0m \u001b[0mprint\u001b[0m\u001b[0;34m(\u001b[0m\u001b[0mSymop\u001b[0m\u001b[0;34m[\u001b[0m\u001b[0;36m3\u001b[0m\u001b[0;34m]\u001b[0m\u001b[0;34m)\u001b[0m\u001b[0;34m\u001b[0m\u001b[0;34m\u001b[0m\u001b[0m\n\u001b[0;32m----> 3\u001b[0;31m \u001b[0mSym1\u001b[0m\u001b[0;34m.\u001b[0m\u001b[0moperate\u001b[0m\u001b[0;34m(\u001b[0m\u001b[0mConvStandSite\u001b[0m\u001b[0;34m[\u001b[0m\u001b[0;36m1\u001b[0m\u001b[0;34m]\u001b[0m\u001b[0;34m)\u001b[0m\u001b[0;34m\u001b[0m\u001b[0;34m\u001b[0m\u001b[0m\n\u001b[0m",
      "\u001b[0;32m/usr/local/lib64/python3.6/site-packages/pymatgen/core/operations.py\u001b[0m in \u001b[0;36moperate\u001b[0;34m(self, point)\u001b[0m\n\u001b[1;32m    110\u001b[0m             \u001b[0mCoordinates\u001b[0m \u001b[0mof\u001b[0m \u001b[0mpoint\u001b[0m \u001b[0mafter\u001b[0m \u001b[0moperation\u001b[0m\u001b[0;34m.\u001b[0m\u001b[0;34m\u001b[0m\u001b[0;34m\u001b[0m\u001b[0m\n\u001b[1;32m    111\u001b[0m         \"\"\"\n\u001b[0;32m--> 112\u001b[0;31m         \u001b[0maffine_point\u001b[0m \u001b[0;34m=\u001b[0m \u001b[0mnp\u001b[0m\u001b[0;34m.\u001b[0m\u001b[0marray\u001b[0m\u001b[0;34m(\u001b[0m\u001b[0;34m[\u001b[0m\u001b[0mpoint\u001b[0m\u001b[0;34m[\u001b[0m\u001b[0;36m0\u001b[0m\u001b[0;34m]\u001b[0m\u001b[0;34m,\u001b[0m \u001b[0mpoint\u001b[0m\u001b[0;34m[\u001b[0m\u001b[0;36m1\u001b[0m\u001b[0;34m]\u001b[0m\u001b[0;34m,\u001b[0m \u001b[0mpoint\u001b[0m\u001b[0;34m[\u001b[0m\u001b[0;36m2\u001b[0m\u001b[0;34m]\u001b[0m\u001b[0;34m,\u001b[0m \u001b[0;36m1\u001b[0m\u001b[0;34m]\u001b[0m\u001b[0;34m)\u001b[0m\u001b[0;34m\u001b[0m\u001b[0;34m\u001b[0m\u001b[0m\n\u001b[0m\u001b[1;32m    113\u001b[0m         \u001b[0;32mreturn\u001b[0m \u001b[0mnp\u001b[0m\u001b[0;34m.\u001b[0m\u001b[0mdot\u001b[0m\u001b[0;34m(\u001b[0m\u001b[0mself\u001b[0m\u001b[0;34m.\u001b[0m\u001b[0maffine_matrix\u001b[0m\u001b[0;34m,\u001b[0m \u001b[0maffine_point\u001b[0m\u001b[0;34m)\u001b[0m\u001b[0;34m[\u001b[0m\u001b[0;36m0\u001b[0m\u001b[0;34m:\u001b[0m\u001b[0;36m3\u001b[0m\u001b[0;34m]\u001b[0m\u001b[0;34m\u001b[0m\u001b[0;34m\u001b[0m\u001b[0m\n\u001b[1;32m    114\u001b[0m \u001b[0;34m\u001b[0m\u001b[0m\n",
      "\u001b[0;32m/usr/local/lib64/python3.6/site-packages/pymatgen/core/sites.py\u001b[0m in \u001b[0;36m__getitem__\u001b[0;34m(self, el)\u001b[0m\n\u001b[1;32m    201\u001b[0m         \u001b[0mGet\u001b[0m \u001b[0mthe\u001b[0m \u001b[0moccupancy\u001b[0m \u001b[0;32mfor\u001b[0m \u001b[0melement\u001b[0m\u001b[0;34m\u001b[0m\u001b[0;34m\u001b[0m\u001b[0m\n\u001b[1;32m    202\u001b[0m         \"\"\"\n\u001b[0;32m--> 203\u001b[0;31m         \u001b[0;32mreturn\u001b[0m \u001b[0mself\u001b[0m\u001b[0;34m.\u001b[0m\u001b[0mspecies\u001b[0m\u001b[0;34m[\u001b[0m\u001b[0mel\u001b[0m\u001b[0;34m]\u001b[0m\u001b[0;34m\u001b[0m\u001b[0;34m\u001b[0m\u001b[0m\n\u001b[0m\u001b[1;32m    204\u001b[0m \u001b[0;34m\u001b[0m\u001b[0m\n\u001b[1;32m    205\u001b[0m     \u001b[0;32mdef\u001b[0m \u001b[0m__eq__\u001b[0m\u001b[0;34m(\u001b[0m\u001b[0mself\u001b[0m\u001b[0;34m,\u001b[0m \u001b[0mother\u001b[0m\u001b[0;34m)\u001b[0m\u001b[0;34m:\u001b[0m\u001b[0;34m\u001b[0m\u001b[0;34m\u001b[0m\u001b[0m\n",
      "\u001b[0;32m/usr/local/lib64/python3.6/site-packages/pymatgen/core/composition.py\u001b[0m in \u001b[0;36m__getitem__\u001b[0;34m(self, item)\u001b[0m\n\u001b[1;32m    144\u001b[0m             raise TypeError(\"Invalid key {}, {} for Composition\\n\"\n\u001b[1;32m    145\u001b[0m                             \"ValueError exception:\\n{}\".format(item,\n\u001b[0;32m--> 146\u001b[0;31m                                                                type(item), ex))\n\u001b[0m\u001b[1;32m    147\u001b[0m \u001b[0;34m\u001b[0m\u001b[0m\n\u001b[1;32m    148\u001b[0m     \u001b[0;32mdef\u001b[0m \u001b[0m__len__\u001b[0m\u001b[0;34m(\u001b[0m\u001b[0mself\u001b[0m\u001b[0;34m)\u001b[0m\u001b[0;34m:\u001b[0m\u001b[0;34m\u001b[0m\u001b[0;34m\u001b[0m\u001b[0m\n",
      "\u001b[0;31mTypeError\u001b[0m: Invalid key 0, <class 'int'> for Composition\nValueError exception:\nNo element with this atomic number 0"
     ]
    }
   ],
   "source": []
  },
  {
   "cell_type": "code",
   "execution_count": null,
   "metadata": {},
   "outputs": [],
   "source": []
  }
 ],
 "metadata": {
  "kernelspec": {
   "display_name": "Python 3",
   "language": "python",
   "name": "python3"
  },
  "language_info": {
   "codemirror_mode": {
    "name": "ipython",
    "version": 3
   },
   "file_extension": ".py",
   "mimetype": "text/x-python",
   "name": "python",
   "nbconvert_exporter": "python",
   "pygments_lexer": "ipython3",
   "version": "3.6.8"
  }
 },
 "nbformat": 4,
 "nbformat_minor": 2
}
